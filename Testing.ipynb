{
 "cells": [
  {
   "cell_type": "code",
   "execution_count": 1,
   "metadata": {},
   "outputs": [
    {
     "name": "stderr",
     "output_type": "stream",
     "text": [
      "Warning : `load_model` does not return WordVectorModel or SupervisedModel any more, but a `FastText` object which is very similar.\n",
      "The chromedriver version (129.0.6668.58) detected in PATH at d:\\Minor_Project\\Models\\chromedriver.exe might not be compatible with the detected chrome version (131.0.6778.86); currently, chromedriver 131.0.6778.85 is recommended for chrome 131.*, so it is advised to delete the driver in PATH and retry\n"
     ]
    },
    {
     "ename": "SessionNotCreatedException",
     "evalue": "Message: session not created: This version of ChromeDriver only supports Chrome version 129\nCurrent browser version is 131.0.6778.86 with binary path C:\\Program Files\\Google\\Chrome\\Application\\chrome.exe\nStacktrace:\n\tGetHandleVerifier [0x00007FF675B3FDA5+29557]\n\t(No symbol) [0x00007FF675AB2240]\n\t(No symbol) [0x00007FF67596B6EA]\n\t(No symbol) [0x00007FF6759ADF67]\n\t(No symbol) [0x00007FF6759ACFFB]\n\t(No symbol) [0x00007FF6759A7B1E]\n\t(No symbol) [0x00007FF6759A268E]\n\t(No symbol) [0x00007FF6759F32E0]\n\t(No symbol) [0x00007FF6759F2970]\n\t(No symbol) [0x00007FF6759E72A3]\n\t(No symbol) [0x00007FF6759B12DF]\n\t(No symbol) [0x00007FF6759B2451]\n\tGetHandleVerifier [0x00007FF675E6DCBD+3363469]\n\tGetHandleVerifier [0x00007FF675EB9B47+3674391]\n\tGetHandleVerifier [0x00007FF675EAEAEB+3629243]\n\tGetHandleVerifier [0x00007FF675BFFC66+815670]\n\t(No symbol) [0x00007FF675ABD6EF]\n\t(No symbol) [0x00007FF675AB92B4]\n\t(No symbol) [0x00007FF675AB9450]\n\t(No symbol) [0x00007FF675AA81FF]\n\tBaseThreadInitThunk [0x00007FFA69A1259D+29]\n\tRtlUserThreadStart [0x00007FFA6BD4AF38+40]\n",
     "output_type": "error",
     "traceback": [
      "\u001b[1;31m---------------------------------------------------------------------------\u001b[0m",
      "\u001b[1;31mSessionNotCreatedException\u001b[0m                Traceback (most recent call last)",
      "\u001b[1;32m~\\AppData\\Local\\Temp\\ipykernel_14208\\1425914305.py\u001b[0m in \u001b[0;36m<module>\u001b[1;34m\u001b[0m\n\u001b[0;32m     54\u001b[0m \u001b[1;33m\u001b[0m\u001b[0m\n\u001b[0;32m     55\u001b[0m \u001b[1;31m# Initialize Selenium WebDriver with headless mode\u001b[0m\u001b[1;33m\u001b[0m\u001b[1;33m\u001b[0m\u001b[1;33m\u001b[0m\u001b[0m\n\u001b[1;32m---> 56\u001b[1;33m \u001b[0mbrowser\u001b[0m \u001b[1;33m=\u001b[0m \u001b[0mwebdriver\u001b[0m\u001b[1;33m.\u001b[0m\u001b[0mChrome\u001b[0m\u001b[1;33m(\u001b[0m\u001b[0moptions\u001b[0m\u001b[1;33m=\u001b[0m\u001b[0mchrome_options\u001b[0m\u001b[1;33m)\u001b[0m\u001b[1;33m\u001b[0m\u001b[1;33m\u001b[0m\u001b[0m\n\u001b[0m\u001b[0;32m     57\u001b[0m \u001b[1;33m\u001b[0m\u001b[0m\n\u001b[0;32m     58\u001b[0m \u001b[1;31m# URL of the e-commerce website to scrape\u001b[0m\u001b[1;33m\u001b[0m\u001b[1;33m\u001b[0m\u001b[1;33m\u001b[0m\u001b[0m\n",
      "\u001b[1;32m~\\AppData\\Roaming\\Python\\Python37\\site-packages\\selenium\\webdriver\\chrome\\webdriver.py\u001b[0m in \u001b[0;36m__init__\u001b[1;34m(self, options, service, keep_alive)\u001b[0m\n\u001b[0;32m     48\u001b[0m             \u001b[0moptions\u001b[0m\u001b[1;33m,\u001b[0m\u001b[1;33m\u001b[0m\u001b[1;33m\u001b[0m\u001b[0m\n\u001b[0;32m     49\u001b[0m             \u001b[0mservice\u001b[0m\u001b[1;33m,\u001b[0m\u001b[1;33m\u001b[0m\u001b[1;33m\u001b[0m\u001b[0m\n\u001b[1;32m---> 50\u001b[1;33m             \u001b[0mkeep_alive\u001b[0m\u001b[1;33m,\u001b[0m\u001b[1;33m\u001b[0m\u001b[1;33m\u001b[0m\u001b[0m\n\u001b[0m\u001b[0;32m     51\u001b[0m         )\n",
      "\u001b[1;32m~\\AppData\\Roaming\\Python\\Python37\\site-packages\\selenium\\webdriver\\chromium\\webdriver.py\u001b[0m in \u001b[0;36m__init__\u001b[1;34m(self, browser_name, vendor_prefix, options, service, keep_alive)\u001b[0m\n\u001b[0;32m     62\u001b[0m                     \u001b[0mignore_proxy\u001b[0m\u001b[1;33m=\u001b[0m\u001b[0moptions\u001b[0m\u001b[1;33m.\u001b[0m\u001b[0m_ignore_local_proxy\u001b[0m\u001b[1;33m,\u001b[0m\u001b[1;33m\u001b[0m\u001b[1;33m\u001b[0m\u001b[0m\n\u001b[0;32m     63\u001b[0m                 ),\n\u001b[1;32m---> 64\u001b[1;33m                 \u001b[0moptions\u001b[0m\u001b[1;33m=\u001b[0m\u001b[0moptions\u001b[0m\u001b[1;33m,\u001b[0m\u001b[1;33m\u001b[0m\u001b[1;33m\u001b[0m\u001b[0m\n\u001b[0m\u001b[0;32m     65\u001b[0m             )\n\u001b[0;32m     66\u001b[0m         \u001b[1;32mexcept\u001b[0m \u001b[0mException\u001b[0m\u001b[1;33m:\u001b[0m\u001b[1;33m\u001b[0m\u001b[1;33m\u001b[0m\u001b[0m\n",
      "\u001b[1;32m~\\AppData\\Roaming\\Python\\Python37\\site-packages\\selenium\\webdriver\\remote\\webdriver.py\u001b[0m in \u001b[0;36m__init__\u001b[1;34m(self, command_executor, keep_alive, file_detector, options)\u001b[0m\n\u001b[0;32m    204\u001b[0m         \u001b[0mself\u001b[0m\u001b[1;33m.\u001b[0m\u001b[0m_authenticator_id\u001b[0m \u001b[1;33m=\u001b[0m \u001b[1;32mNone\u001b[0m\u001b[1;33m\u001b[0m\u001b[1;33m\u001b[0m\u001b[0m\n\u001b[0;32m    205\u001b[0m         \u001b[0mself\u001b[0m\u001b[1;33m.\u001b[0m\u001b[0mstart_client\u001b[0m\u001b[1;33m(\u001b[0m\u001b[1;33m)\u001b[0m\u001b[1;33m\u001b[0m\u001b[1;33m\u001b[0m\u001b[0m\n\u001b[1;32m--> 206\u001b[1;33m         \u001b[0mself\u001b[0m\u001b[1;33m.\u001b[0m\u001b[0mstart_session\u001b[0m\u001b[1;33m(\u001b[0m\u001b[0mcapabilities\u001b[0m\u001b[1;33m)\u001b[0m\u001b[1;33m\u001b[0m\u001b[1;33m\u001b[0m\u001b[0m\n\u001b[0m\u001b[0;32m    207\u001b[0m \u001b[1;33m\u001b[0m\u001b[0m\n\u001b[0;32m    208\u001b[0m     \u001b[1;32mdef\u001b[0m \u001b[0m__repr__\u001b[0m\u001b[1;33m(\u001b[0m\u001b[0mself\u001b[0m\u001b[1;33m)\u001b[0m\u001b[1;33m:\u001b[0m\u001b[1;33m\u001b[0m\u001b[1;33m\u001b[0m\u001b[0m\n",
      "\u001b[1;32m~\\AppData\\Roaming\\Python\\Python37\\site-packages\\selenium\\webdriver\\remote\\webdriver.py\u001b[0m in \u001b[0;36mstart_session\u001b[1;34m(self, capabilities)\u001b[0m\n\u001b[0;32m    288\u001b[0m \u001b[1;33m\u001b[0m\u001b[0m\n\u001b[0;32m    289\u001b[0m         \u001b[0mcaps\u001b[0m \u001b[1;33m=\u001b[0m \u001b[0m_create_caps\u001b[0m\u001b[1;33m(\u001b[0m\u001b[0mcapabilities\u001b[0m\u001b[1;33m)\u001b[0m\u001b[1;33m\u001b[0m\u001b[1;33m\u001b[0m\u001b[0m\n\u001b[1;32m--> 290\u001b[1;33m         \u001b[0mresponse\u001b[0m \u001b[1;33m=\u001b[0m \u001b[0mself\u001b[0m\u001b[1;33m.\u001b[0m\u001b[0mexecute\u001b[0m\u001b[1;33m(\u001b[0m\u001b[0mCommand\u001b[0m\u001b[1;33m.\u001b[0m\u001b[0mNEW_SESSION\u001b[0m\u001b[1;33m,\u001b[0m \u001b[0mcaps\u001b[0m\u001b[1;33m)\u001b[0m\u001b[1;33m[\u001b[0m\u001b[1;34m\"value\"\u001b[0m\u001b[1;33m]\u001b[0m\u001b[1;33m\u001b[0m\u001b[1;33m\u001b[0m\u001b[0m\n\u001b[0m\u001b[0;32m    291\u001b[0m         \u001b[0mself\u001b[0m\u001b[1;33m.\u001b[0m\u001b[0msession_id\u001b[0m \u001b[1;33m=\u001b[0m \u001b[0mresponse\u001b[0m\u001b[1;33m.\u001b[0m\u001b[0mget\u001b[0m\u001b[1;33m(\u001b[0m\u001b[1;34m\"sessionId\"\u001b[0m\u001b[1;33m)\u001b[0m\u001b[1;33m\u001b[0m\u001b[1;33m\u001b[0m\u001b[0m\n\u001b[0;32m    292\u001b[0m         \u001b[0mself\u001b[0m\u001b[1;33m.\u001b[0m\u001b[0mcaps\u001b[0m \u001b[1;33m=\u001b[0m \u001b[0mresponse\u001b[0m\u001b[1;33m.\u001b[0m\u001b[0mget\u001b[0m\u001b[1;33m(\u001b[0m\u001b[1;34m\"capabilities\"\u001b[0m\u001b[1;33m)\u001b[0m\u001b[1;33m\u001b[0m\u001b[1;33m\u001b[0m\u001b[0m\n",
      "\u001b[1;32m~\\AppData\\Roaming\\Python\\Python37\\site-packages\\selenium\\webdriver\\remote\\webdriver.py\u001b[0m in \u001b[0;36mexecute\u001b[1;34m(self, driver_command, params)\u001b[0m\n\u001b[0;32m    343\u001b[0m         \u001b[0mresponse\u001b[0m \u001b[1;33m=\u001b[0m \u001b[0mself\u001b[0m\u001b[1;33m.\u001b[0m\u001b[0mcommand_executor\u001b[0m\u001b[1;33m.\u001b[0m\u001b[0mexecute\u001b[0m\u001b[1;33m(\u001b[0m\u001b[0mdriver_command\u001b[0m\u001b[1;33m,\u001b[0m \u001b[0mparams\u001b[0m\u001b[1;33m)\u001b[0m\u001b[1;33m\u001b[0m\u001b[1;33m\u001b[0m\u001b[0m\n\u001b[0;32m    344\u001b[0m         \u001b[1;32mif\u001b[0m \u001b[0mresponse\u001b[0m\u001b[1;33m:\u001b[0m\u001b[1;33m\u001b[0m\u001b[1;33m\u001b[0m\u001b[0m\n\u001b[1;32m--> 345\u001b[1;33m             \u001b[0mself\u001b[0m\u001b[1;33m.\u001b[0m\u001b[0merror_handler\u001b[0m\u001b[1;33m.\u001b[0m\u001b[0mcheck_response\u001b[0m\u001b[1;33m(\u001b[0m\u001b[0mresponse\u001b[0m\u001b[1;33m)\u001b[0m\u001b[1;33m\u001b[0m\u001b[1;33m\u001b[0m\u001b[0m\n\u001b[0m\u001b[0;32m    346\u001b[0m             \u001b[0mresponse\u001b[0m\u001b[1;33m[\u001b[0m\u001b[1;34m\"value\"\u001b[0m\u001b[1;33m]\u001b[0m \u001b[1;33m=\u001b[0m \u001b[0mself\u001b[0m\u001b[1;33m.\u001b[0m\u001b[0m_unwrap_value\u001b[0m\u001b[1;33m(\u001b[0m\u001b[0mresponse\u001b[0m\u001b[1;33m.\u001b[0m\u001b[0mget\u001b[0m\u001b[1;33m(\u001b[0m\u001b[1;34m\"value\"\u001b[0m\u001b[1;33m,\u001b[0m \u001b[1;32mNone\u001b[0m\u001b[1;33m)\u001b[0m\u001b[1;33m)\u001b[0m\u001b[1;33m\u001b[0m\u001b[1;33m\u001b[0m\u001b[0m\n\u001b[0;32m    347\u001b[0m             \u001b[1;32mreturn\u001b[0m \u001b[0mresponse\u001b[0m\u001b[1;33m\u001b[0m\u001b[1;33m\u001b[0m\u001b[0m\n",
      "\u001b[1;32m~\\AppData\\Roaming\\Python\\Python37\\site-packages\\selenium\\webdriver\\remote\\errorhandler.py\u001b[0m in \u001b[0;36mcheck_response\u001b[1;34m(self, response)\u001b[0m\n\u001b[0;32m    227\u001b[0m                 \u001b[0malert_text\u001b[0m \u001b[1;33m=\u001b[0m \u001b[0mvalue\u001b[0m\u001b[1;33m[\u001b[0m\u001b[1;34m\"alert\"\u001b[0m\u001b[1;33m]\u001b[0m\u001b[1;33m.\u001b[0m\u001b[0mget\u001b[0m\u001b[1;33m(\u001b[0m\u001b[1;34m\"text\"\u001b[0m\u001b[1;33m)\u001b[0m\u001b[1;33m\u001b[0m\u001b[1;33m\u001b[0m\u001b[0m\n\u001b[0;32m    228\u001b[0m             \u001b[1;32mraise\u001b[0m \u001b[0mexception_class\u001b[0m\u001b[1;33m(\u001b[0m\u001b[0mmessage\u001b[0m\u001b[1;33m,\u001b[0m \u001b[0mscreen\u001b[0m\u001b[1;33m,\u001b[0m \u001b[0mstacktrace\u001b[0m\u001b[1;33m,\u001b[0m \u001b[0malert_text\u001b[0m\u001b[1;33m)\u001b[0m  \u001b[1;31m# type: ignore[call-arg]  # mypy is not smart enough here\u001b[0m\u001b[1;33m\u001b[0m\u001b[1;33m\u001b[0m\u001b[0m\n\u001b[1;32m--> 229\u001b[1;33m         \u001b[1;32mraise\u001b[0m \u001b[0mexception_class\u001b[0m\u001b[1;33m(\u001b[0m\u001b[0mmessage\u001b[0m\u001b[1;33m,\u001b[0m \u001b[0mscreen\u001b[0m\u001b[1;33m,\u001b[0m \u001b[0mstacktrace\u001b[0m\u001b[1;33m)\u001b[0m\u001b[1;33m\u001b[0m\u001b[1;33m\u001b[0m\u001b[0m\n\u001b[0m",
      "\u001b[1;31mSessionNotCreatedException\u001b[0m: Message: session not created: This version of ChromeDriver only supports Chrome version 129\nCurrent browser version is 131.0.6778.86 with binary path C:\\Program Files\\Google\\Chrome\\Application\\chrome.exe\nStacktrace:\n\tGetHandleVerifier [0x00007FF675B3FDA5+29557]\n\t(No symbol) [0x00007FF675AB2240]\n\t(No symbol) [0x00007FF67596B6EA]\n\t(No symbol) [0x00007FF6759ADF67]\n\t(No symbol) [0x00007FF6759ACFFB]\n\t(No symbol) [0x00007FF6759A7B1E]\n\t(No symbol) [0x00007FF6759A268E]\n\t(No symbol) [0x00007FF6759F32E0]\n\t(No symbol) [0x00007FF6759F2970]\n\t(No symbol) [0x00007FF6759E72A3]\n\t(No symbol) [0x00007FF6759B12DF]\n\t(No symbol) [0x00007FF6759B2451]\n\tGetHandleVerifier [0x00007FF675E6DCBD+3363469]\n\tGetHandleVerifier [0x00007FF675EB9B47+3674391]\n\tGetHandleVerifier [0x00007FF675EAEAEB+3629243]\n\tGetHandleVerifier [0x00007FF675BFFC66+815670]\n\t(No symbol) [0x00007FF675ABD6EF]\n\t(No symbol) [0x00007FF675AB92B4]\n\t(No symbol) [0x00007FF675AB9450]\n\t(No symbol) [0x00007FF675AA81FF]\n\tBaseThreadInitThunk [0x00007FFA69A1259D+29]\n\tRtlUserThreadStart [0x00007FFA6BD4AF38+40]\n"
     ]
    }
   ],
   "source": [
    "import fasttext\n",
    "import re\n",
    "import time  # Import time module for adding a delay\n",
    "from selenium import webdriver\n",
    "from selenium.webdriver.common.by import By\n",
    "from selenium.webdriver.chrome.options import Options\n",
    "from selenium.common.exceptions import StaleElementReferenceException\n",
    "\n",
    "# Load your FastText model\n",
    "model = fasttext.load_model('fasttext_k4.bin')  # 3 # 3\n",
    "#model = fasttext.load_model('fasttext_model_fold3.bin') # 1 #2\n",
    "#model = fasttext.load_model('model_dark_pattern1.bin') #2 #1\n",
    "# List of words to filter out\n",
    "filter_words = set([\n",
    "    \"english\", \"hindi\", \"bengali\", \"kannada\", \"german\", \"marathi\", \"language\"\n",
    "])\n",
    "\n",
    "# Preprocess function\n",
    "def preprocess(text):\n",
    "    text = text.lower()\n",
    "    text = re.sub(r'[^\\w\\s\\'₹$%]', ' ', text)\n",
    "    keep_patterns = [\n",
    "        r'\\b\\d+%?\\b', r'₹\\d+', r'\\$\\d+', \n",
    "        r'\\d+ (?:star rating|reviews?|trusted by|bought by|in the last \\d+ (?:hours|days))', \n",
    "        r'\\d+% off', r'upto ₹\\d+', r'upto \\$\\d+'\n",
    "    ]\n",
    "    remove_patterns = [\n",
    "        r'\\b\\d+ ?(gb|mah|cm|inch|inches|mp|gen|year|years|months|month|ram|rom|display|battery|processor|platform)\\b'\n",
    "    ]\n",
    "    for pattern in remove_patterns:\n",
    "        text = re.sub(pattern, ' ', text)\n",
    "    \n",
    "    def replace_numbers(match):\n",
    "        if any(re.search(pattern, match.group(0)) for pattern in keep_patterns):\n",
    "            return match.group(0)\n",
    "        else:\n",
    "            return \" \"\n",
    "    \n",
    "    text = re.sub(r'\\b\\d+\\b', replace_numbers, text)\n",
    "    text = re.sub(' +', ' ', text)\n",
    "    text = ''.join([char for char in text if ord(char) < 128])\n",
    "    text = text.strip()\n",
    "\n",
    "    if any(word in text for word in filter_words):\n",
    "        return \"\"\n",
    "    \n",
    "    return text\n",
    "\n",
    "# Set up Chrome options to run in headless mode\n",
    "chrome_options = Options()\n",
    "chrome_options.add_argument(\"--disable-gpu\")\n",
    "chrome_options.add_argument(\"--no-sandbox\")\n",
    "chrome_options.add_argument(\"--disable-dev-shm-usage\")\n",
    "\n",
    "# Initialize Selenium WebDriver with headless mode\n",
    "browser = webdriver.Chrome(options=chrome_options)\n",
    "\n",
    "# URL of the e-commerce website to scrape\n",
    "url = \"https://www.amazon.in/\"\n",
    "#url = \"https://www.amazon.in/s?k=bedsheets\"\n",
    "browser.get(url)\n",
    "\n",
    "# Function to segment the DOM elements\n",
    "def segmented(element):\n",
    "    elements = element.find_elements(By.XPATH, \".//*\")\n",
    "    return elements\n",
    "\n",
    "# Function to scrape the website, classify text, and highlight matched elements\n",
    "def scrape_and_highlight():\n",
    "    elements = segmented(browser.find_element(By.TAG_NAME, \"body\"))\n",
    "    filtered_elements = []\n",
    "\n",
    "    for el in elements:\n",
    "        try:\n",
    "            text = el.text.strip().replace(\"\\t\", \" \")   \n",
    "            if text:\n",
    "                filtered_elements.append((el, text))\n",
    "        except StaleElementReferenceException:\n",
    "            continue\n",
    "    \n",
    "    for i, (el, text) in enumerate(filtered_elements):\n",
    "        lines = text.split('\\n')\n",
    "        for line in lines:\n",
    "            try:\n",
    "                processed_text = preprocess(line).replace('\\n', ' ')\n",
    "                category = ''  # Initialize category here\n",
    "                if processed_text:\n",
    "                    label, score = model.predict(processed_text)\n",
    "                    if label[0].split('__label__')[1] == 'yes':  # Check if the predicted label is 'yes'\n",
    "                        category = 'dark pattern'\n",
    "                        browser.execute_script(\"arguments[0].innerHTML = arguments[0].innerHTML.replace(arguments[1], '<span style=\\\"background-color: red;\\\">' + arguments[1] + '</span>');\", el, line)\n",
    "                    print(f\"Element {i + 1}:\\nOriginal Text: {line}\\nPreprocessed Text: {processed_text}\\nCategory: {category}\\n\")\n",
    "            except StaleElementReferenceException:\n",
    "                continue\n",
    "\n",
    "# Start scraping and highlighting\n",
    "scrape_and_highlight()\n",
    "\n",
    "# Note: Do not close the browser to keep the highlighted elements visible\n",
    "# browser.quit()\n"
   ]
  },
  {
   "cell_type": "code",
   "execution_count": 2,
   "metadata": {},
   "outputs": [
    {
     "name": "stderr",
     "output_type": "stream",
     "text": [
      "Warning : `load_model` does not return WordVectorModel or SupervisedModel any more, but a `FastText` object which is very similar.\n"
     ]
    }
   ],
   "source": [
    "import fasttext\n",
    "\n",
    "model = fasttext.load_model('fasttext_k4.bin')\n",
    "\n"
   ]
  },
  {
   "cell_type": "code",
   "execution_count": 3,
   "metadata": {},
   "outputs": [],
   "source": [
    "# Example: Extracting word vectors\n",
    "word_vectors = {word: model.get_word_vector(word) for word in model.get_words()}\n"
   ]
  },
  {
   "cell_type": "code",
   "execution_count": 4,
   "metadata": {},
   "outputs": [
    {
     "data": {
      "text/plain": [
       "['model.pkl']"
      ]
     },
     "execution_count": 4,
     "metadata": {},
     "output_type": "execute_result"
    }
   ],
   "source": [
    "import joblib\n",
    "\n",
    "joblib.dump(word_vectors, \"model.pkl\")\n"
   ]
  },
  {
   "cell_type": "code",
   "execution_count": 8,
   "metadata": {},
   "outputs": [
    {
     "name": "stderr",
     "output_type": "stream",
     "text": [
      "Warning : `load_model` does not return WordVectorModel or SupervisedModel any more, but a `FastText` object which is very similar.\n"
     ]
    }
   ],
   "source": [
    "import fasttext\n",
    "\n",
    "# Load the FastText model from the .bin file\n",
    "model1 = fasttext.load_model('fasttext_k4.bin')\n",
    "\n",
    "# Save the FastText model to a .bin file (or .ftz for compressed models)\n",
    "model1.save_model('model_saved.ftz')  # You can use any name here\n"
   ]
  },
  {
   "cell_type": "code",
   "execution_count": 1,
   "metadata": {},
   "outputs": [
    {
     "name": "stdout",
     "output_type": "stream",
     "text": [
      "Word: free, Predicted Label: __label__no, Confidence: 0.9985085725784302\n",
      "Word: limited, Predicted Label: __label__no, Confidence: 0.9996528625488281\n",
      "Word: guarantee, Predicted Label: __label__no, Confidence: 1.0000087022781372\n",
      "Word: terms, Predicted Label: __label__no, Confidence: 1.0000098943710327\n",
      "Word: privacy, Predicted Label: __label__no, Confidence: 1.0000077486038208\n",
      "Word: sale, Predicted Label: __label__no, Confidence: 1.0000100135803223\n",
      "Word: exclusive, Predicted Label: __label__yes, Confidence: 0.9889583587646484\n"
     ]
    },
    {
     "name": "stderr",
     "output_type": "stream",
     "text": [
      "Warning : `load_model` does not return WordVectorModel or SupervisedModel any more, but a `FastText` object which is very similar.\n"
     ]
    }
   ],
   "source": [
    "import fasttext\n",
    "\n",
    "# Load the saved FastText model\n",
    "model = fasttext.load_model('model_saved.ftz')\n",
    "\n",
    "# Test the model with example tokens\n",
    "tokens = ['free', 'limited', 'guarantee', 'terms', 'privacy', 'sale', 'exclusive']\n",
    "\n",
    "# Predict the classification for each token (word)\n",
    "output = []\n",
    "\n",
    "for token in tokens:\n",
    "    prediction = model.predict(token)  # Predict the class\n",
    "    output.append({'word': token, 'predicted_label': prediction[0][0], 'confidence': prediction[1][0]})\n",
    "\n",
    "# Print the results\n",
    "for result in output:\n",
    "    print(f\"Word: {result['word']}, Predicted Label: {result['predicted_label']}, Confidence: {result['confidence']}\")\n"
   ]
  },
  {
   "cell_type": "code",
   "execution_count": 10,
   "metadata": {},
   "outputs": [
    {
     "name": "stderr",
     "output_type": "stream",
     "text": [
      "Warning : `load_model` does not return WordVectorModel or SupervisedModel any more, but a `FastText` object which is very similar.\n"
     ]
    },
    {
     "name": "stdout",
     "output_type": "stream",
     "text": [
      "Word vectors saved to word_vectors.pkl\n"
     ]
    }
   ],
   "source": [
    "import fasttext\n",
    "import pickle\n",
    "\n",
    "# Load the FastText model\n",
    "model = fasttext.load_model('model_saved.ftz')\n",
    "\n",
    "# Create a dictionary of word embeddings\n",
    "word_vectors = {word: model.get_word_vector(word) for word in model.get_words()}\n",
    "\n",
    "# Save the word vectors as a pickle file\n",
    "with open('word_vectors.pkl', 'wb') as f:\n",
    "    pickle.dump(word_vectors, f)\n",
    "\n",
    "print(\"Word vectors saved to word_vectors.pkl\")\n"
   ]
  },
  {
   "cell_type": "code",
   "execution_count": 11,
   "metadata": {},
   "outputs": [
    {
     "name": "stdout",
     "output_type": "stream",
     "text": [
      "Word: free\n",
      "Word Vector: [ 0.04877536 -0.02375953  0.03516376  0.01735046 -0.02450103  0.00037739\n",
      " -0.00280879  0.00366569 -0.05549864 -0.03751379  0.01586474 -0.03196466\n",
      " -0.03759388 -0.01514249  0.0253796   0.01736866 -0.01506189 -0.02573508\n",
      " -0.0099211   0.03536506  0.02191356 -0.01323203 -0.03631254  0.01061219\n",
      " -0.01699558  0.01204267  0.00584632  0.01537866  0.00081454 -0.03826044\n",
      "  0.02379689  0.02068958  0.02678249  0.04294058  0.00491804 -0.00264826\n",
      " -0.02845364  0.03067598 -0.01239639  0.01501953 -0.01859472 -0.01072602\n",
      "  0.00894872  0.01880982  0.00783888 -0.00730331  0.01213707  0.02213049\n",
      "  0.00911718 -0.02457174]\n",
      "\n",
      "Word: exclusive\n",
      "Word Vector: [ 0.23515052 -0.21728584  0.13773201  0.05461797 -0.15660585  0.0341207\n",
      " -0.13063277  0.0158461  -0.27612948 -0.120155    0.01838774 -0.11512704\n",
      " -0.15364741 -0.07784876  0.10026268  0.00188856 -0.04848239 -0.16804135\n",
      "  0.04946726  0.19939718  0.02923743 -0.20302361 -0.10049158  0.2030936\n",
      " -0.15904428  0.08179528 -0.0473648   0.02012916  0.04479161 -0.24575473\n",
      "  0.17936578  0.00707146  0.14880902  0.16368358  0.1630417  -0.00927359\n",
      " -0.06898724  0.21377678  0.00700883  0.15164626 -0.15373191 -0.19890495\n",
      " -0.06790728  0.01052627  0.07185195 -0.0088393   0.06038637  0.00507058\n",
      "  0.1447458  -0.0697552 ]\n",
      "\n",
      "Word: guarantee\n",
      "Word Vector: [-2.96323635e-02  3.83684933e-02 -2.82541327e-02  2.62344885e-03\n",
      "  2.41189618e-02 -2.12777965e-02  1.09388968e-02  6.88113563e-04\n",
      "  2.93536242e-02  2.86388956e-02  1.64511334e-02 -6.74527313e-04\n",
      "  1.85504407e-02 -2.27903307e-04 -9.72078554e-03  8.23616888e-03\n",
      "  3.19475844e-03  1.67635141e-03 -1.30886575e-02 -9.24454507e-05\n",
      "  1.74754392e-03 -1.19072909e-03  1.68275183e-05 -3.28860572e-03\n",
      "  2.16924120e-02  1.01413224e-02  9.37752053e-03 -1.82828829e-02\n",
      " -1.34645524e-02  4.24939580e-03 -1.10541349e-02  1.18249152e-02\n",
      " -2.59355120e-02 -7.13778147e-03  6.32167934e-03 -1.31818736e-02\n",
      " -6.18304918e-03 -1.69927708e-03  1.40877953e-02  1.44198930e-04\n",
      "  2.83050034e-02 -2.77085113e-04 -4.05977899e-03  1.92342941e-02\n",
      " -1.78028140e-02  1.73040759e-02  8.63595307e-03 -7.17956806e-03\n",
      " -1.26409372e-02  1.56792887e-02]\n",
      "\n",
      "Word: sale\n",
      "Word Vector: [ 0.02617335 -0.02571066  0.00751878 -0.00750161 -0.04770916 -0.01234872\n",
      " -0.01574599  0.01830383 -0.03771494 -0.01829304  0.00496627 -0.00198122\n",
      " -0.03481632 -0.00222165  0.01947789  0.01346833 -0.00685985 -0.01169794\n",
      " -0.01021398  0.02815006 -0.00514596 -0.01697033 -0.00371198  0.01755629\n",
      " -0.02761577  0.00065207 -0.0009554   0.00155878  0.0063769  -0.04974305\n",
      "  0.03206569  0.00239043  0.02851335  0.01158263  0.02255362  0.01208643\n",
      " -0.00172505  0.03137727  0.01717795  0.02087132 -0.02126454 -0.03630049\n",
      "  0.00251254 -0.0103051   0.0036859   0.01068323  0.01721575  0.0113931\n",
      "  0.03352146  0.00398602]\n",
      "\n",
      "Word: privacy\n",
      "Word Vector: [-0.05690738  0.03557287 -0.05294249 -0.01618782  0.04760773 -0.01757385\n",
      "  0.02692065  0.00129319  0.06099422  0.03647157  0.00185637  0.01443395\n",
      "  0.0360726   0.02043512 -0.01482776  0.0181661   0.02065186  0.03570868\n",
      " -0.00410059 -0.05992682 -0.00886636  0.05997644  0.03151571 -0.04487388\n",
      "  0.04665373 -0.0303905   0.01301502  0.00821366  0.00634172  0.04428999\n",
      " -0.0580052  -0.01099169 -0.05529033 -0.0336616  -0.03552239 -0.00106636\n",
      "  0.01823572 -0.03632664  0.0005031  -0.03271597  0.052042    0.02326472\n",
      "  0.01333882  0.014517   -0.00379629 -0.01150351 -0.0123763  -0.0218278\n",
      " -0.03197544  0.01417587]\n",
      "\n",
      "Word: limited\n",
      "Word Vector: [ 0.06338578 -0.09830732  0.06780083  0.00643304 -0.07624134  0.02647975\n",
      " -0.04101169  0.02410718 -0.09475669 -0.03786299  0.02773    -0.04831442\n",
      " -0.05020635 -0.01999118  0.02118876 -0.0035947   0.00351231 -0.04596081\n",
      "  0.01387418  0.0601369   0.01271306 -0.05377198 -0.02683039  0.06805408\n",
      " -0.04378407  0.03085619 -0.02552055 -0.00294432  0.03048498 -0.08283339\n",
      "  0.04429445 -0.00562223  0.06173277  0.0603302   0.04092578 -0.00725264\n",
      " -0.02334569  0.06166612  0.00188255  0.04525312 -0.07482501 -0.06463484\n",
      " -0.04198917 -0.00476082  0.02761687 -0.00958626  0.01049868 -0.00081281\n",
      "  0.03621968 -0.03288743]\n",
      "\n",
      "Cosine similarity between 'free' and 'exclusive': 0.8384266495704651\n"
     ]
    }
   ],
   "source": [
    "import pickle\n",
    "import numpy as np\n",
    "\n",
    "# Load the word vectors from the pickle file\n",
    "with open('word_vectors.pkl', 'rb') as f:\n",
    "    word_vectors = pickle.load(f)\n",
    "\n",
    "# Function to compute cosine similarity between two vectors\n",
    "def cosine_similarity(vec1, vec2):\n",
    "    return np.dot(vec1, vec2) / (np.linalg.norm(vec1) * np.linalg.norm(vec2))\n",
    "\n",
    "# Example words to test\n",
    "words = [\"free\", \"exclusive\", \"guarantee\", \"sale\", \"privacy\", \"limited\"]\n",
    "\n",
    "# Check if the words are in the word_vectors dictionary and display their vectors\n",
    "for word in words:\n",
    "    if word in word_vectors:\n",
    "        print(f\"Word: {word}\")\n",
    "        print(f\"Word Vector: {word_vectors[word]}\\n\")\n",
    "    else:\n",
    "        print(f\"Word '{word}' not found in word vectors\\n\")\n",
    "\n",
    "# Test similarity between two words (for example, \"free\" and \"exclusive\")\n",
    "word1 = \"free\"\n",
    "word2 = \"exclusive\"\n",
    "\n",
    "if word1 in word_vectors and word2 in word_vectors:\n",
    "    similarity = cosine_similarity(word_vectors[word1], word_vectors[word2])\n",
    "    print(f\"Cosine similarity between '{word1}' and '{word2}': {similarity}\")\n",
    "else:\n",
    "    print(f\"One or both words '{word1}' and '{word2}' not found in word vectors\")\n"
   ]
  },
  {
   "cell_type": "code",
   "execution_count": 12,
   "metadata": {},
   "outputs": [
    {
     "ename": "ImportError",
     "evalue": "cannot import name 'joblib' from 'sklearn.externals' (c:\\Users\\DARREN CHAHAL\\.conda\\envs\\myenv\\lib\\site-packages\\sklearn\\externals\\__init__.py)",
     "output_type": "error",
     "traceback": [
      "\u001b[1;31m---------------------------------------------------------------------------\u001b[0m",
      "\u001b[1;31mImportError\u001b[0m                               Traceback (most recent call last)",
      "\u001b[1;32m~\\AppData\\Local\\Temp\\ipykernel_14208\\4095947593.py\u001b[0m in \u001b[0;36m<module>\u001b[1;34m\u001b[0m\n\u001b[0;32m      1\u001b[0m \u001b[1;32mimport\u001b[0m \u001b[0mpickle\u001b[0m\u001b[1;33m\u001b[0m\u001b[1;33m\u001b[0m\u001b[0m\n\u001b[1;32m----> 2\u001b[1;33m \u001b[1;32mfrom\u001b[0m \u001b[0msklearn\u001b[0m\u001b[1;33m.\u001b[0m\u001b[0mexternals\u001b[0m \u001b[1;32mimport\u001b[0m \u001b[0mjoblib\u001b[0m\u001b[1;33m\u001b[0m\u001b[1;33m\u001b[0m\u001b[0m\n\u001b[0m\u001b[0;32m      3\u001b[0m \u001b[1;32mimport\u001b[0m \u001b[0mnumpy\u001b[0m \u001b[1;32mas\u001b[0m \u001b[0mnp\u001b[0m\u001b[1;33m\u001b[0m\u001b[1;33m\u001b[0m\u001b[0m\n\u001b[0;32m      4\u001b[0m \u001b[1;33m\u001b[0m\u001b[0m\n\u001b[0;32m      5\u001b[0m \u001b[1;31m# Load word embeddings and classifier\u001b[0m\u001b[1;33m\u001b[0m\u001b[1;33m\u001b[0m\u001b[1;33m\u001b[0m\u001b[0m\n",
      "\u001b[1;31mImportError\u001b[0m: cannot import name 'joblib' from 'sklearn.externals' (c:\\Users\\DARREN CHAHAL\\.conda\\envs\\myenv\\lib\\site-packages\\sklearn\\externals\\__init__.py)"
     ]
    }
   ],
   "source": [
    "import pickle\n",
    "from sklearn.externals import joblib\n",
    "import numpy as np\n",
    "\n",
    "# Load word embeddings and classifier\n",
    "with open('word_vectors.pkl', 'rb') as f:\n",
    "    word_vectors = pickle.load(f)\n",
    "\n",
    "category_classifier = joblib.load('category_classifier.joblib')  # Assuming it's a scikit-learn classifier\n",
    "\n",
    "# Function to get sentence embedding\n",
    "def sentence_embedding(sentence):\n",
    "    words = sentence.lower().split()\n",
    "    word_vecs = []\n",
    "\n",
    "    for word in words:\n",
    "        if word in word_vectors:\n",
    "            word_vecs.append(word_vectors[word])\n",
    "    \n",
    "    if not word_vecs:\n",
    "        return None\n",
    "    return np.mean(word_vecs, axis=0)\n",
    "\n",
    "# Example sentence\n",
    "sentence = \"The swimming competition was exciting.\"\n",
    "embedding = sentence_embedding(sentence)\n",
    "\n",
    "if embedding is not None:\n",
    "    # Use classifier to predict category for the sentence\n",
    "    prediction = category_classifier.predict([embedding])\n",
    "    print(f\"Predicted Category: {prediction[0]}\")\n",
    "else:\n",
    "    print(\"No word embeddings found for the sentence.\")\n"
   ]
  }
 ],
 "metadata": {
  "kernelspec": {
   "display_name": "myenv",
   "language": "python",
   "name": "python3"
  },
  "language_info": {
   "codemirror_mode": {
    "name": "ipython",
    "version": 3
   },
   "file_extension": ".py",
   "mimetype": "text/x-python",
   "name": "python",
   "nbconvert_exporter": "python",
   "pygments_lexer": "ipython3",
   "version": "3.7.16"
  }
 },
 "nbformat": 4,
 "nbformat_minor": 2
}
